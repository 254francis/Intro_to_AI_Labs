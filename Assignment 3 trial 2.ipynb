{
  "nbformat": 4,
  "nbformat_minor": 0,
  "metadata": {
    "colab": {
      "provenance": [],
      "authorship_tag": "ABX9TyM5RZgKydTkgCn34ttbuyqF",
      "include_colab_link": true
    },
    "kernelspec": {
      "name": "python3",
      "display_name": "Python 3"
    },
    "language_info": {
      "name": "python"
    }
  },
  "cells": [
    {
      "cell_type": "markdown",
      "metadata": {
        "id": "view-in-github",
        "colab_type": "text"
      },
      "source": [
        "<a href=\"https://colab.research.google.com/github/254francis/Intro_to_AI_Labs/blob/main/Assignment%203%20trial%202.ipynb\" target=\"_parent\"><img src=\"https://colab.research.google.com/assets/colab-badge.svg\" alt=\"Open In Colab\"/></a>"
      ]
    },
    {
      "cell_type": "code",
      "execution_count": 1,
      "metadata": {
        "colab": {
          "base_uri": "https://localhost:8080/"
        },
        "id": "_M0bVMmjt5I1",
        "outputId": "88fc6465-90a7-4f7e-880c-ffd6b22829db"
      },
      "outputs": [
        {
          "output_type": "stream",
          "name": "stdout",
          "text": [
            "Surveillance Robot Navigation\n",
            "1) Fewest stopovers\n",
            "2) All paths\n",
            "3) Cheapest path\n",
            "4) A* with distance heuristic\n",
            "Choose (1–4): 3\n",
            "Start node: b\n",
            "Goal node: D\n",
            "Cheapest path: ['B', 'C', 'D'] (cost = 2)\n"
          ]
        }
      ],
      "source": [
        "#!/usr/bin/env python3\n",
        "import heapq\n",
        "from collections import deque\n",
        "\n",
        "# ─── 1. DEFINE YOUR GRAPH ──────────────────────────────────────────────────────\n",
        "graph = {\n",
        "    'A': [('B', 2), ('C', 5)],\n",
        "    'B': [('A', 2), ('C', 1), ('D', 4)],\n",
        "    'C': [('A', 5), ('B', 1), ('D', 1)],\n",
        "    'D': [('B', 4), ('C', 1)]\n",
        "}\n",
        "\n",
        "# ─── 2. COORDINATES FOR A* HEURISTIC ──────────────────────────────────────────\n",
        "coords = {\n",
        "    'A': (0, 0),\n",
        "    'B': (2, 0),\n",
        "    'C': (2, 3),\n",
        "    'D': (5, 3)\n",
        "}\n",
        "\n",
        "def euclidean(u, v):\n",
        "    x1, y1 = coords[u]\n",
        "    x2, y2 = coords[v]\n",
        "    return ((x1 - x2)**2 + (y1 - y2)**2)**0.5\n",
        "\n",
        "# ─── 3. FEWEST STOPOVERS ──────────────────────────────────────────────────────\n",
        "def fewest_stopovers(start, goal):\n",
        "    visited = {start}\n",
        "    queue = deque([(start, [start])])\n",
        "    while queue:\n",
        "        node, path = queue.popleft()\n",
        "        if node == goal:\n",
        "            return path\n",
        "        for neigh, _ in graph[node]:\n",
        "            if neigh not in visited:\n",
        "                visited.add(neigh)\n",
        "                queue.append((neigh, path + [neigh]))\n",
        "    return None\n",
        "\n",
        "# ─── 4. ALL PATHS ─────────────────────────────────────────────────────────────\n",
        "def all_paths(start, goal, path=None, results=None):\n",
        "    if path is None: path = [start]\n",
        "    if results is None: results = []\n",
        "    if start == goal:\n",
        "        results.append(path)\n",
        "    else:\n",
        "        for neigh, _ in graph[start]:\n",
        "            if neigh not in path:\n",
        "                all_paths(neigh, goal, path + [neigh], results)\n",
        "    return results\n",
        "\n",
        "# ─── 5. CHEAPEST PATH (DIJKSTRA) ───────────────────────────────────────────────\n",
        "def cheapest_path(start, goal):\n",
        "    pq = [(0, start, [])]\n",
        "    seen = set()\n",
        "    while pq:\n",
        "        cost, node, path = heapq.heappop(pq)\n",
        "        if node == goal:\n",
        "            return cost, path + [node]\n",
        "        if node in seen:\n",
        "            continue\n",
        "        seen.add(node)\n",
        "        for neigh, w in graph[node]:\n",
        "            if neigh not in seen:\n",
        "                heapq.heappush(pq, (cost + w, neigh, path + [node]))\n",
        "    return float('inf'), []\n",
        "\n",
        "# ─── 6. A* WITH EUCLIDEAN HEURISTIC ──────────────────────────────────────────\n",
        "def a_star(start, goal):\n",
        "    open_set = [(euclidean(start, goal), 0, start, [])]\n",
        "    closed = set()\n",
        "    while open_set:\n",
        "        est_tot, cost_so_far, node, path = heapq.heappop(open_set)\n",
        "        if node == goal:\n",
        "            return cost_so_far, path + [node]\n",
        "        if node in closed:\n",
        "            continue\n",
        "        closed.add(node)\n",
        "        for neigh, w in graph[node]:\n",
        "            if neigh in closed:\n",
        "                continue\n",
        "            g = cost_so_far + w\n",
        "            f = g + euclidean(neigh, goal)\n",
        "            heapq.heappush(open_set, (f, g, neigh, path + [node]))\n",
        "    return float('inf'), []\n",
        "\n",
        "# ─── 7. USER MENU ──────────────────────────────────────────────────────────────\n",
        "if __name__ == \"__main__\":\n",
        "    print(\"Surveillance Robot Navigation\")\n",
        "    print(\"1) Fewest stopovers\")\n",
        "    print(\"2) All paths\")\n",
        "    print(\"3) Cheapest path\")\n",
        "    print(\"4) A* with distance heuristic\")\n",
        "    choice = input(\"Choose (1–4): \").strip()\n",
        "    s = input(\"Start node: \").strip().upper()\n",
        "    g = input(\"Goal node: \").strip().upper()\n",
        "\n",
        "    if choice == '1':\n",
        "        print(\"Fewest-stopovers path:\", fewest_stopovers(s, g))\n",
        "    elif choice == '2':\n",
        "        paths = all_paths(s, g)\n",
        "        print(f\"All {len(paths)} path(s):\")\n",
        "        for p in paths:\n",
        "            print(\"  →\", p)\n",
        "    elif choice == '3':\n",
        "        cost, path = cheapest_path(s, g)\n",
        "        print(f\"Cheapest path: {path} (cost = {cost})\")\n",
        "    elif choice == '4':\n",
        "        cost, path = a_star(s, g)\n",
        "        print(f\"A* path: {path} (cost = {cost})\")\n",
        "    else:\n",
        "        print(\"Invalid choice.\")\n"
      ]
    },
    {
      "cell_type": "code",
      "source": [],
      "metadata": {
        "id": "OciXMdmGuIwA"
      },
      "execution_count": null,
      "outputs": []
    }
  ]
}