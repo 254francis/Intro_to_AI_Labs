{
  "nbformat": 4,
  "nbformat_minor": 0,
  "metadata": {
    "colab": {
      "provenance": [],
      "toc_visible": true,
      "authorship_tag": "ABX9TyOulBlMD/3f1rDyygS/p+nj",
      "include_colab_link": true
    },
    "kernelspec": {
      "name": "python3",
      "display_name": "Python 3"
    },
    "language_info": {
      "name": "python"
    }
  },
  "cells": [
    {
      "cell_type": "markdown",
      "metadata": {
        "id": "view-in-github",
        "colab_type": "text"
      },
      "source": [
        "<a href=\"https://colab.research.google.com/github/254francis/Intro_to_AI_Labs/blob/main/Intro_to_AI_assignment3.ipynb\" target=\"_parent\"><img src=\"https://colab.research.google.com/assets/colab-badge.svg\" alt=\"Open In Colab\"/></a>"
      ]
    },
    {
      "cell_type": "code",
      "execution_count": 5,
      "metadata": {
        "colab": {
          "base_uri": "https://localhost:8080/"
        },
        "id": "q2rqNSighfGO",
        "outputId": "a8c63fdf-f1ca-433a-c58a-4033d8e89cce"
      },
      "outputs": [
        {
          "output_type": "stream",
          "name": "stdout",
          "text": [
            "Choose a task:\n",
            "1. Fewest stopovers\n",
            "2. All paths\n",
            "3. Cheapest path (battery low)\n",
            "4. A* with heuristic\n",
            "Enter option number (1-4): 4\n",
            "Enter start point: A\n",
            "Enter goal point: D\n",
            "A* path: ['A', 'C', 'D'] with cost 5\n"
          ]
        }
      ],
      "source": [
        "import heapq\n",
        "from collections import defaultdict, deque\n",
        "\n",
        "# Sample graph as adjacency list: (node: [(neighbor, cost)])\n",
        "graph = {\n",
        "    'A': [('B', 1), ('C', 4)],\n",
        "    'B': [('A', 1), ('C', 2), ('D', 5)],\n",
        "    'C': [('A', 4), ('B', 2), ('D', 1)],\n",
        "    'D': [('B', 5), ('C', 1)]\n",
        "}\n",
        "\n",
        "# Task 1: Fewest stopovers (BFS for shortest path by hops)\n",
        "def fewest_stopovers(start, goal):\n",
        "    visited = set()\n",
        "    queue = deque([(start, [start])])\n",
        "\n",
        "    while queue:\n",
        "        node, path = queue.popleft()\n",
        "        if node == goal:\n",
        "            return path\n",
        "        if node not in visited:\n",
        "            visited.add(node)\n",
        "            for neighbor, _ in graph[node]:\n",
        "                if neighbor not in visited:\n",
        "                    queue.append((neighbor, path + [neighbor]))\n",
        "    return None\n",
        "\n",
        "# Task 2: See all paths (DFS traversal)\n",
        "def all_paths(start, goal, path=[], paths=[]):\n",
        "    path = path + [start]\n",
        "    if start == goal:\n",
        "        paths.append(path)\n",
        "    else:\n",
        "        for neighbor, _ in graph.get(start, []):\n",
        "            if neighbor not in path:\n",
        "                all_paths(neighbor, goal, path, paths)\n",
        "    return paths\n",
        "\n",
        "# Task 3: Cheapest path (Dijkstra's algorithm)\n",
        "def cheapest_path(start, goal):\n",
        "    pq = [(0, start, [])]\n",
        "    visited = set()\n",
        "\n",
        "    while pq:\n",
        "        cost, node, path = heapq.heappop(pq)\n",
        "        if node == goal:\n",
        "            return (cost, path + [node])\n",
        "        if node not in visited:\n",
        "            visited.add(node)\n",
        "            for neighbor, weight in graph[node]:\n",
        "                if neighbor not in visited:\n",
        "                    heapq.heappush(pq, (cost + weight, neighbor, path + [node]))\n",
        "    return float('inf'), []\n",
        "\n",
        "# Task 4: Heuristic (example: Euclidean distance placeholder)\n",
        "heuristics = {\n",
        "    'A': 7,\n",
        "    'B': 6,\n",
        "    'C': 2,\n",
        "    'D': 0  # Assume goal is D\n",
        "}\n",
        "\n",
        "# A* pathfinding factoring in battery (heuristic)\n",
        "def a_star(start, goal):\n",
        "    pq = [(heuristics[start], 0, start, [])]\n",
        "    visited = set()\n",
        "\n",
        "    while pq:\n",
        "        est_total, cost_so_far, node, path = heapq.heappop(pq)\n",
        "        if node == goal:\n",
        "            return (cost_so_far, path + [node])\n",
        "        if node not in visited:\n",
        "            visited.add(node)\n",
        "            for neighbor, weight in graph[node]:\n",
        "                if neighbor not in visited:\n",
        "                    g = cost_so_far + weight\n",
        "                    f = g + heuristics[neighbor]\n",
        "                    heapq.heappush(pq, (f, g, neighbor, path + [node]))\n",
        "    return float('inf'), []\n",
        "\n",
        "# User Interface\n",
        "if __name__ == \"__main__\":\n",
        "    print(\"Choose a task:\")\n",
        "    print(\"1. Fewest stopovers\")\n",
        "    print(\"2. All paths\")\n",
        "    print(\"3. Cheapest path (battery low)\")\n",
        "    print(\"4. A* with heuristic\")\n",
        "\n",
        "    choice = int(input(\"Enter option number (1-4): \"))\n",
        "    start = input(\"Enter start point: \").upper()\n",
        "    goal = input(\"Enter goal point: \").upper()\n",
        "\n",
        "    if choice == 1:\n",
        "        print(\"Path:\", fewest_stopovers(start, goal))\n",
        "    elif choice == 2:\n",
        "        print(\"Paths:\", all_paths(start, goal))\n",
        "    elif choice == 3:\n",
        "        cost, path = cheapest_path(start, goal)\n",
        "        print(f\"Cheapest path: {path} with cost {cost}\")\n",
        "    elif choice == 4:\n",
        "        cost, path = a_star(start, goal)\n",
        "        print(f\"A* path: {path} with cost {cost}\")\n",
        "    else:\n",
        "        print(\"Invalid choice.\")\n"
      ]
    },
    {
      "cell_type": "code",
      "source": [],
      "metadata": {
        "id": "4Zb3hsP8jVyg"
      },
      "execution_count": null,
      "outputs": []
    }
  ]
}