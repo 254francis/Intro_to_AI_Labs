{
  "nbformat": 4,
  "nbformat_minor": 0,
  "metadata": {
    "colab": {
      "provenance": [],
      "authorship_tag": "ABX9TyNC6gWRl1rRsfJR4TpZyMfR",
      "include_colab_link": true
    },
    "kernelspec": {
      "name": "python3",
      "display_name": "Python 3"
    },
    "language_info": {
      "name": "python"
    }
  },
  "cells": [
    {
      "cell_type": "markdown",
      "metadata": {
        "id": "view-in-github",
        "colab_type": "text"
      },
      "source": [
        "<a href=\"https://colab.research.google.com/github/254francis/Intro_to_AI_Labs/blob/main/intro_to_AI.ipynb\" target=\"_parent\"><img src=\"https://colab.research.google.com/assets/colab-badge.svg\" alt=\"Open In Colab\"/></a>"
      ]
    },
    {
      "cell_type": "code",
      "execution_count": 35,
      "metadata": {
        "id": "v3rkZYOj_Ow_"
      },
      "outputs": [],
      "source": [
        "import random\n",
        " #Design the Environment\n",
        "class environment(object):\n",
        "  def __init__(self):\n",
        "    #instantiate locations and conditions\n",
        "    # 0 indicates Clean and 1 indicates dirty\n",
        "    self.location = [\"A\",\"B\",\"C\",\"D\"] #Locations\n",
        "    self.locationcondition = {\"A\": 0, \"B\": 0, \"C\":0, \"D\":0} #Status of enviroment\n",
        "    #Randomise conditions\n",
        "    self.locationcondition[\"A\"] = random.randint(0,1)\n",
        "    self.locationcondition[\"B\"] = random.randint(0,1)\n",
        "    self.locationcondition[\"C\"] = random.randint(0,1)\n",
        "    self.locationcondition[\"D\"] = random.randint(0,1)\n",
        "    #Place vacuum cleaner at a random location\n",
        "    self.vacuumlocation = random.choice(self.location)\n",
        "\n",
        "     #Assume past record is A=T,B=T,C=T and D=T\n",
        "    self.cleaningmethod = {\"A\":\"T\",\"B\":\"T\", \"C\":\"T\", \"D\":\"T\"}\n",
        "\n",
        "    #Randomly generate intial cleaning history\n",
        "    self.cleaningmethod[\"A\"] = random.choice (self.mode)\n",
        "    self.cleaningmethod[\"B\"] = random.choice (self.mode)\n",
        "    self.cleaningmethod[\"C\"] = random.choice (self.mode)\n",
        "    self.cleaningmethod[\"D\"] = random.choice (self.mode)\n",
        " #Design the vacuum cleaner agent\n",
        "class agent(environment):\n",
        "  def __init__(self, environment):\n",
        "     #Randomly generate status\n",
        "    print(\"Environment condition\", environment.locationcondition,\n",
        "    \"Vacuum location\", environment.vacuumlocation, \"cleaning method\"\n",
        "    ,environment.cleaningmethod)\n",
        "    count = 0\n",
        "    while count<2:\n",
        "      if environment.locationcondition[environment.vacuumlocation] == 1:\n",
        "        print (environment.vacuumlocation, \" is dirty, \")\n",
        "    #check status, suck, mark clean, record status\n",
        "      if environment.cleaningmethod[environment.vacuumlocation] == \"T\":\n",
        "        environment.cleaningmethod[environment.vacuumlocation] = \"L\"\n",
        "      else:\n",
        "        environment.cleaningmethod[environment.vacuumlocation] = \"T\"\n",
        "import random\n",
        " #Design the Environment\n",
        "class environment(object):\n",
        "  def __init__(self):\n",
        "    #instantiate locations and conditions\n",
        "    # 0 indicates Clean and 1 indicates dirty\n",
        "    self.location = [\"A\",\"B\",\"C\",\"D\"] #Locations\n",
        "    self.locationcondition = {\"A\": 0, \"B\": 0, \"C\":0, \"D\":0} #Status of enviroment\n",
        "    #Randomise conditions\n",
        "    self.locationcondition[\"A\"] = random.randint(0,1)\n",
        "    self.locationcondition[\"B\"] = random.randint(0,1)\n",
        "    self.locationcondition[\"C\"] = random.randint(0,1)\n",
        "    self.locationcondition[\"D\"] = random.randint(0,1)\n",
        "    #Place vacuum cleaner at a random location\n",
        "    self.vacuumlocation = random.choice(self.location)\n",
        "\n",
        "     #Assume past record is A=T and B=T\n",
        "    self.cleaningmethod = {\"A\":\"T\",\"B\":\"T\",\"C\":\"T\",\"D\":\"T\"}\n",
        "    self.mode = [\"T\",\"L\"] # Define self.mode here\n",
        "    #Randomly generate intial cleaning history\n",
        "    self.cleaningmethod[\"A\"] = random.choice (self.mode)\n",
        "    self.cleaningmethod[\"B\"] = random.choice (self.mode)\n",
        "    self.cleaningmethod[\"C\"] = random.choice (self.mode)\n",
        "    self.cleaningmethod[\"D\"] = random.choice (self.mode)\n",
        " #Design the vacuum cleaner agent\n",
        "class agent(environment):\n",
        "  def __init__(self, environment):\n",
        "     #Randomly generate status\n",
        "    print(\"Environment condition\", environment.locationcondition,\n",
        "    \"Vacuum location\", environment.vacuumlocation, \"cleaning method\"\n",
        "    ,environment.cleaningmethod)\n",
        "    count = 0\n",
        "    while count<2:\n",
        "      if environment.locationcondition[environment.vacuumlocation] == 1:\n",
        "        print (environment.vacuumlocation, \" is dirty, \")\n",
        "    #check status, suck, mark clean, record status\n",
        "        if environment.cleaningmethod[environment.vacuumlocation] == \"T\":\n",
        "          environment.cleaningmethod[environment.vacuumlocation] = \"L\"\n",
        "        else:\n",
        "          environment.cleaningmethod[environment.vacuumlocation] = \"T\"\n",
        "        environment.locationcondition[environment.vacuumlocation] = 0\n",
        "        print(environment.vacuumlocation, \"Has been cleaned\")\n",
        "      else:\n",
        "        print(environment.vacuumlocation, \"Is clean\")\n",
        "      newindex = environment.location.index(environment.vacuumlocation) + 1\n",
        "      if newindex == 4:\n",
        "        newindex = 0\n",
        "      environment.vacuumlocation = environment.location[newindex]\n",
        "      count += 1\n",
        "    #Done with cleaning\n",
        "    print(environment.locationcondition)\n",
        "#Create an environment\n",
        "    if newindex == 4:\n",
        "      newindex = 0\n",
        "      environment.vacuumlocation = environment.location[newindex]\n",
        "    count += 1\n",
        "    print(\"new conditions\",environment.locationcondition)\n",
        "    print(\"updated history\",environment.cleaningmethod)\n",
        "#Create an environment"
      ]
    },
    {
      "cell_type": "code",
      "source": [
        "e1 = environment()\n",
        "  #Send the vacuum agent\n",
        "a1 = agent(e1)"
      ],
      "metadata": {
        "colab": {
          "base_uri": "https://localhost:8080/"
        },
        "id": "c-ABLU__C1xd",
        "outputId": "52fd6570-8248-4db9-ce8b-7118b2e4e3be"
      },
      "execution_count": 37,
      "outputs": [
        {
          "output_type": "stream",
          "name": "stdout",
          "text": [
            "Environment condition {'A': 1, 'B': 1, 'C': 1, 'D': 1} Vacuum location C cleaning method {'A': 'L', 'B': 'T', 'C': 'T', 'D': 'L'}\n",
            "C  is dirty, \n",
            "C Has been cleaned\n",
            "D  is dirty, \n",
            "D Has been cleaned\n",
            "{'A': 1, 'B': 1, 'C': 0, 'D': 0}\n",
            "new conditions {'A': 1, 'B': 1, 'C': 0, 'D': 0}\n",
            "updated history {'A': 'L', 'B': 'T', 'C': 'L', 'D': 'T'}\n"
          ]
        }
      ]
    }
  ]
}